{
 "cells": [
  {
   "cell_type": "code",
   "execution_count": 1,
   "metadata": {},
   "outputs": [],
   "source": [
    "import chess\n",
    "from IPython.display import clear_output\n",
    "from Logica_jogo import is_terminal\n",
    "from Controle_jogo import definirLado, jogadaOponente\n",
    "from Minimax import minimax_alpha_beta_material"
   ]
  },
  {
   "cell_type": "code",
   "execution_count": 2,
   "metadata": {},
   "outputs": [],
   "source": [
    "def main():\n",
    "    lado_jogador = definirLado()\n",
    "    board = chess.Board()\n",
    "\n",
    "    if lado_jogador == chess.WHITE:\n",
    "        print(\"Você joga com as peças brancas.\")\n",
    "    else:\n",
    "        print(\"Você joga com as peças pretas.\")\n",
    "\n",
    "    while True:\n",
    "        if board.turn == lado_jogador:\n",
    "            jogada, _ = minimax_alpha_beta_material(board, lado_jogador, profundidade=3, alpha=float(\"-inf\"), beta=float(\"inf\"))\n",
    "            board.push(jogada)\n",
    "            clear_output()\n",
    "            display(board)\n",
    "        else:\n",
    "            jogadaOponente(board)\n",
    "            clear_output()\n",
    "            display(board)\n",
    "\n",
    "        if is_terminal(board):\n",
    "            if board.is_checkmate():\n",
    "                if board.turn == chess.WHITE:\n",
    "                    print(\"Oponente venceu!\")\n",
    "                else:\n",
    "                    print(\"Você venceu!\")\n",
    "            else:\n",
    "                print(\"Empate!\")\n",
    "            break"
   ]
  },
  {
   "cell_type": "code",
   "execution_count": 3,
   "metadata": {},
   "outputs": [
    {
     "name": "stdout",
     "output_type": "stream",
     "text": [
      "Você joga com as peças brancas.\n"
     ]
    },
    {
     "ename": "AttributeError",
     "evalue": "'Piece' object has no attribute 'square'",
     "output_type": "error",
     "traceback": [
      "\u001b[0;31m---------------------------------------------------------------------------\u001b[0m",
      "\u001b[0;31mAttributeError\u001b[0m                            Traceback (most recent call last)",
      "\u001b[1;32m/home/ggentil/Projetos/Xadrez/MiniMax_Otimizado/Minimax_alfa_e_beta.ipynb Célula 3\u001b[0m line \u001b[0;36m2\n\u001b[1;32m      <a href='vscode-notebook-cell://wsl%2Bubuntu/home/ggentil/Projetos/Xadrez/MiniMax_Otimizado/Minimax_alfa_e_beta.ipynb#X12sdnNjb2RlLXJlbW90ZQ%3D%3D?line=0'>1</a>\u001b[0m \u001b[39mif\u001b[39;00m \u001b[39m__name__\u001b[39m \u001b[39m==\u001b[39m \u001b[39m\"\u001b[39m\u001b[39m__main__\u001b[39m\u001b[39m\"\u001b[39m:\n\u001b[0;32m----> <a href='vscode-notebook-cell://wsl%2Bubuntu/home/ggentil/Projetos/Xadrez/MiniMax_Otimizado/Minimax_alfa_e_beta.ipynb#X12sdnNjb2RlLXJlbW90ZQ%3D%3D?line=1'>2</a>\u001b[0m     main()\n",
      "\u001b[1;32m/home/ggentil/Projetos/Xadrez/MiniMax_Otimizado/Minimax_alfa_e_beta.ipynb Célula 3\u001b[0m line \u001b[0;36m1\n\u001b[1;32m     <a href='vscode-notebook-cell://wsl%2Bubuntu/home/ggentil/Projetos/Xadrez/MiniMax_Otimizado/Minimax_alfa_e_beta.ipynb#X12sdnNjb2RlLXJlbW90ZQ%3D%3D?line=9'>10</a>\u001b[0m \u001b[39mwhile\u001b[39;00m \u001b[39mTrue\u001b[39;00m:\n\u001b[1;32m     <a href='vscode-notebook-cell://wsl%2Bubuntu/home/ggentil/Projetos/Xadrez/MiniMax_Otimizado/Minimax_alfa_e_beta.ipynb#X12sdnNjb2RlLXJlbW90ZQ%3D%3D?line=10'>11</a>\u001b[0m     \u001b[39mif\u001b[39;00m board\u001b[39m.\u001b[39mturn \u001b[39m==\u001b[39m lado_jogador:\n\u001b[0;32m---> <a href='vscode-notebook-cell://wsl%2Bubuntu/home/ggentil/Projetos/Xadrez/MiniMax_Otimizado/Minimax_alfa_e_beta.ipynb#X12sdnNjb2RlLXJlbW90ZQ%3D%3D?line=11'>12</a>\u001b[0m         jogada, _ \u001b[39m=\u001b[39m minimax_alpha_beta_material(board, lado_jogador, depth\u001b[39m=\u001b[39;49m\u001b[39m3\u001b[39;49m, alpha\u001b[39m=\u001b[39;49m\u001b[39mfloat\u001b[39;49m(\u001b[39m\"\u001b[39;49m\u001b[39m-inf\u001b[39;49m\u001b[39m\"\u001b[39;49m), beta\u001b[39m=\u001b[39;49m\u001b[39mfloat\u001b[39;49m(\u001b[39m\"\u001b[39;49m\u001b[39minf\u001b[39;49m\u001b[39m\"\u001b[39;49m))\n\u001b[1;32m     <a href='vscode-notebook-cell://wsl%2Bubuntu/home/ggentil/Projetos/Xadrez/MiniMax_Otimizado/Minimax_alfa_e_beta.ipynb#X12sdnNjb2RlLXJlbW90ZQ%3D%3D?line=12'>13</a>\u001b[0m         board\u001b[39m.\u001b[39mpush(jogada)\n\u001b[1;32m     <a href='vscode-notebook-cell://wsl%2Bubuntu/home/ggentil/Projetos/Xadrez/MiniMax_Otimizado/Minimax_alfa_e_beta.ipynb#X12sdnNjb2RlLXJlbW90ZQ%3D%3D?line=13'>14</a>\u001b[0m         clear_output()\n",
      "File \u001b[0;32m~/Projetos/Xadrez/MiniMax_Otimizado/Minimax.py:13\u001b[0m, in \u001b[0;36mminimax_alpha_beta_material\u001b[0;34m(state, player, depth, alpha, beta)\u001b[0m\n\u001b[1;32m     11\u001b[0m \u001b[39mfor\u001b[39;00m move \u001b[39min\u001b[39;00m get_moves(state, player):\n\u001b[1;32m     12\u001b[0m     new_state \u001b[39m=\u001b[39m make_move(state, move)\n\u001b[0;32m---> 13\u001b[0m     _, value \u001b[39m=\u001b[39m minimax_alpha_beta_material(new_state, get_other_player(player), depth \u001b[39m-\u001b[39;49m \u001b[39m1\u001b[39;49m, alpha, beta)\n\u001b[1;32m     15\u001b[0m     \u001b[39mif\u001b[39;00m state\u001b[39m.\u001b[39mturn \u001b[39m==\u001b[39m player:\n\u001b[1;32m     16\u001b[0m         \u001b[39mif\u001b[39;00m value \u001b[39m>\u001b[39m best_value:\n",
      "File \u001b[0;32m~/Projetos/Xadrez/MiniMax_Otimizado/Minimax.py:13\u001b[0m, in \u001b[0;36mminimax_alpha_beta_material\u001b[0;34m(state, player, depth, alpha, beta)\u001b[0m\n\u001b[1;32m     11\u001b[0m \u001b[39mfor\u001b[39;00m move \u001b[39min\u001b[39;00m get_moves(state, player):\n\u001b[1;32m     12\u001b[0m     new_state \u001b[39m=\u001b[39m make_move(state, move)\n\u001b[0;32m---> 13\u001b[0m     _, value \u001b[39m=\u001b[39m minimax_alpha_beta_material(new_state, get_other_player(player), depth \u001b[39m-\u001b[39;49m \u001b[39m1\u001b[39;49m, alpha, beta)\n\u001b[1;32m     15\u001b[0m     \u001b[39mif\u001b[39;00m state\u001b[39m.\u001b[39mturn \u001b[39m==\u001b[39m player:\n\u001b[1;32m     16\u001b[0m         \u001b[39mif\u001b[39;00m value \u001b[39m>\u001b[39m best_value:\n",
      "File \u001b[0;32m~/Projetos/Xadrez/MiniMax_Otimizado/Minimax.py:13\u001b[0m, in \u001b[0;36mminimax_alpha_beta_material\u001b[0;34m(state, player, depth, alpha, beta)\u001b[0m\n\u001b[1;32m     11\u001b[0m \u001b[39mfor\u001b[39;00m move \u001b[39min\u001b[39;00m get_moves(state, player):\n\u001b[1;32m     12\u001b[0m     new_state \u001b[39m=\u001b[39m make_move(state, move)\n\u001b[0;32m---> 13\u001b[0m     _, value \u001b[39m=\u001b[39m minimax_alpha_beta_material(new_state, get_other_player(player), depth \u001b[39m-\u001b[39;49m \u001b[39m1\u001b[39;49m, alpha, beta)\n\u001b[1;32m     15\u001b[0m     \u001b[39mif\u001b[39;00m state\u001b[39m.\u001b[39mturn \u001b[39m==\u001b[39m player:\n\u001b[1;32m     16\u001b[0m         \u001b[39mif\u001b[39;00m value \u001b[39m>\u001b[39m best_value:\n",
      "File \u001b[0;32m~/Projetos/Xadrez/MiniMax_Otimizado/Minimax.py:6\u001b[0m, in \u001b[0;36mminimax_alpha_beta_material\u001b[0;34m(state, player, depth, alpha, beta)\u001b[0m\n\u001b[1;32m      4\u001b[0m \u001b[39mdef\u001b[39;00m \u001b[39mminimax_alpha_beta_material\u001b[39m(state, player, depth, alpha, beta):\n\u001b[1;32m      5\u001b[0m     \u001b[39mif\u001b[39;00m depth \u001b[39m==\u001b[39m \u001b[39m0\u001b[39m \u001b[39mor\u001b[39;00m is_terminal(state):\n\u001b[0;32m----> 6\u001b[0m         \u001b[39mreturn\u001b[39;00m \u001b[39mNone\u001b[39;00m, evaluate_board(state)\n\u001b[1;32m      8\u001b[0m     best_move \u001b[39m=\u001b[39m \u001b[39mNone\u001b[39;00m\n\u001b[1;32m      9\u001b[0m     best_value \u001b[39m=\u001b[39m \u001b[39mfloat\u001b[39m(\u001b[39m\"\u001b[39m\u001b[39m-inf\u001b[39m\u001b[39m\"\u001b[39m) \u001b[39mif\u001b[39;00m state\u001b[39m.\u001b[39mturn \u001b[39m==\u001b[39m player \u001b[39melse\u001b[39;00m \u001b[39mfloat\u001b[39m(\u001b[39m\"\u001b[39m\u001b[39minf\u001b[39m\u001b[39m\"\u001b[39m)\n",
      "File \u001b[0;32m~/Projetos/Xadrez/MiniMax_Otimizado/Heuristica.py:28\u001b[0m, in \u001b[0;36mevaluate_board\u001b[0;34m(state)\u001b[0m\n\u001b[1;32m     26\u001b[0m \u001b[39m# Avaliação baseada no controle do centro\u001b[39;00m\n\u001b[1;32m     27\u001b[0m center_squares \u001b[39m=\u001b[39m {chess\u001b[39m.\u001b[39mD4, chess\u001b[39m.\u001b[39mD5, chess\u001b[39m.\u001b[39mE4, chess\u001b[39m.\u001b[39mE5}\n\u001b[0;32m---> 28\u001b[0m center_control_score \u001b[39m=\u001b[39m \u001b[39msum\u001b[39;49m(\n\u001b[1;32m     29\u001b[0m     (\u001b[39m1\u001b[39;49m \u001b[39mif\u001b[39;49;00m piece\u001b[39m.\u001b[39;49msquare \u001b[39min\u001b[39;49;00m center_squares \u001b[39melse\u001b[39;49;00m \u001b[39m0\u001b[39;49m) \u001b[39m*\u001b[39;49m (\u001b[39m1\u001b[39;49m \u001b[39mif\u001b[39;49;00m piece\u001b[39m.\u001b[39;49mcolor \u001b[39m==\u001b[39;49m chess\u001b[39m.\u001b[39;49mWHITE \u001b[39melse\u001b[39;49;00m \u001b[39m-\u001b[39;49m\u001b[39m1\u001b[39;49m)\n\u001b[1;32m     30\u001b[0m     \u001b[39mfor\u001b[39;49;00m piece \u001b[39min\u001b[39;49;00m state\u001b[39m.\u001b[39;49mpiece_map()\u001b[39m.\u001b[39;49mvalues()\n\u001b[1;32m     31\u001b[0m )\n\u001b[1;32m     33\u001b[0m \u001b[39m# Avaliação baseada na estrutura de peões\u001b[39;00m\n\u001b[1;32m     34\u001b[0m pawn_structure_score \u001b[39m=\u001b[39m \u001b[39msum\u001b[39m(\n\u001b[1;32m     35\u001b[0m     (\u001b[39m1\u001b[39m \u001b[39mif\u001b[39;00m state\u001b[39m.\u001b[39mis_pinned(piece\u001b[39m.\u001b[39mcolor, piece\u001b[39m.\u001b[39msquare) \u001b[39melse\u001b[39;00m \u001b[39m0\u001b[39m) \u001b[39m*\u001b[39m (\u001b[39m1\u001b[39m \u001b[39mif\u001b[39;00m piece\u001b[39m.\u001b[39mcolor \u001b[39m==\u001b[39m chess\u001b[39m.\u001b[39mWHITE \u001b[39melse\u001b[39;00m \u001b[39m-\u001b[39m\u001b[39m1\u001b[39m)\n\u001b[1;32m     36\u001b[0m     \u001b[39mfor\u001b[39;00m piece \u001b[39min\u001b[39;00m state\u001b[39m.\u001b[39mpiece_map()\u001b[39m.\u001b[39mvalues() \u001b[39mif\u001b[39;00m piece\u001b[39m.\u001b[39mpiece_type \u001b[39m==\u001b[39m chess\u001b[39m.\u001b[39mPAWN\n\u001b[1;32m     37\u001b[0m )\n",
      "File \u001b[0;32m~/Projetos/Xadrez/MiniMax_Otimizado/Heuristica.py:29\u001b[0m, in \u001b[0;36m<genexpr>\u001b[0;34m(.0)\u001b[0m\n\u001b[1;32m     26\u001b[0m \u001b[39m# Avaliação baseada no controle do centro\u001b[39;00m\n\u001b[1;32m     27\u001b[0m center_squares \u001b[39m=\u001b[39m {chess\u001b[39m.\u001b[39mD4, chess\u001b[39m.\u001b[39mD5, chess\u001b[39m.\u001b[39mE4, chess\u001b[39m.\u001b[39mE5}\n\u001b[1;32m     28\u001b[0m center_control_score \u001b[39m=\u001b[39m \u001b[39msum\u001b[39m(\n\u001b[0;32m---> 29\u001b[0m     (\u001b[39m1\u001b[39m \u001b[39mif\u001b[39;00m piece\u001b[39m.\u001b[39;49msquare \u001b[39min\u001b[39;00m center_squares \u001b[39melse\u001b[39;00m \u001b[39m0\u001b[39m) \u001b[39m*\u001b[39m (\u001b[39m1\u001b[39m \u001b[39mif\u001b[39;00m piece\u001b[39m.\u001b[39mcolor \u001b[39m==\u001b[39m chess\u001b[39m.\u001b[39mWHITE \u001b[39melse\u001b[39;00m \u001b[39m-\u001b[39m\u001b[39m1\u001b[39m)\n\u001b[1;32m     30\u001b[0m     \u001b[39mfor\u001b[39;00m piece \u001b[39min\u001b[39;00m state\u001b[39m.\u001b[39mpiece_map()\u001b[39m.\u001b[39mvalues()\n\u001b[1;32m     31\u001b[0m )\n\u001b[1;32m     33\u001b[0m \u001b[39m# Avaliação baseada na estrutura de peões\u001b[39;00m\n\u001b[1;32m     34\u001b[0m pawn_structure_score \u001b[39m=\u001b[39m \u001b[39msum\u001b[39m(\n\u001b[1;32m     35\u001b[0m     (\u001b[39m1\u001b[39m \u001b[39mif\u001b[39;00m state\u001b[39m.\u001b[39mis_pinned(piece\u001b[39m.\u001b[39mcolor, piece\u001b[39m.\u001b[39msquare) \u001b[39melse\u001b[39;00m \u001b[39m0\u001b[39m) \u001b[39m*\u001b[39m (\u001b[39m1\u001b[39m \u001b[39mif\u001b[39;00m piece\u001b[39m.\u001b[39mcolor \u001b[39m==\u001b[39m chess\u001b[39m.\u001b[39mWHITE \u001b[39melse\u001b[39;00m \u001b[39m-\u001b[39m\u001b[39m1\u001b[39m)\n\u001b[1;32m     36\u001b[0m     \u001b[39mfor\u001b[39;00m piece \u001b[39min\u001b[39;00m state\u001b[39m.\u001b[39mpiece_map()\u001b[39m.\u001b[39mvalues() \u001b[39mif\u001b[39;00m piece\u001b[39m.\u001b[39mpiece_type \u001b[39m==\u001b[39m chess\u001b[39m.\u001b[39mPAWN\n\u001b[1;32m     37\u001b[0m )\n",
      "\u001b[0;31mAttributeError\u001b[0m: 'Piece' object has no attribute 'square'"
     ]
    }
   ],
   "source": [
    "if __name__ == \"__main__\":\n",
    "    main()"
   ]
  }
 ],
 "metadata": {
  "kernelspec": {
   "display_name": "venv",
   "language": "python",
   "name": "python3"
  },
  "language_info": {
   "codemirror_mode": {
    "name": "ipython",
    "version": 3
   },
   "file_extension": ".py",
   "mimetype": "text/x-python",
   "name": "python",
   "nbconvert_exporter": "python",
   "pygments_lexer": "ipython3",
   "version": "3.10.12"
  }
 },
 "nbformat": 4,
 "nbformat_minor": 2
}
