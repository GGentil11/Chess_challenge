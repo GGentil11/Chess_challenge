{
 "cells": [
  {
   "cell_type": "code",
   "execution_count": 1,
   "metadata": {},
   "outputs": [
    {
     "ename": "ImportError",
     "evalue": "cannot import name 'minimax_alpha_beta_material' from 'Minimax' (/home/ggentil/Projetos/Xadrez/MiniMax_Otimizado/Minimax.py)",
     "output_type": "error",
     "traceback": [
      "\u001b[0;31m---------------------------------------------------------------------------\u001b[0m",
      "\u001b[0;31mImportError\u001b[0m                               Traceback (most recent call last)",
      "\u001b[1;32m/home/ggentil/Projetos/Xadrez/MiniMax_Otimizado/main.ipynb Célula 1\u001b[0m line \u001b[0;36m7\n\u001b[1;32m      <a href='vscode-notebook-cell://wsl%2Bubuntu/home/ggentil/Projetos/Xadrez/MiniMax_Otimizado/main.ipynb#W0sdnNjb2RlLXJlbW90ZQ%3D%3D?line=4'>5</a>\u001b[0m \u001b[39mfrom\u001b[39;00m \u001b[39mLogica_jogo\u001b[39;00m \u001b[39mimport\u001b[39;00m is_terminal\n\u001b[1;32m      <a href='vscode-notebook-cell://wsl%2Bubuntu/home/ggentil/Projetos/Xadrez/MiniMax_Otimizado/main.ipynb#W0sdnNjb2RlLXJlbW90ZQ%3D%3D?line=5'>6</a>\u001b[0m \u001b[39mfrom\u001b[39;00m \u001b[39mControle_jogo\u001b[39;00m \u001b[39mimport\u001b[39;00m definirLado, jogadaOponente\n\u001b[0;32m----> <a href='vscode-notebook-cell://wsl%2Bubuntu/home/ggentil/Projetos/Xadrez/MiniMax_Otimizado/main.ipynb#W0sdnNjb2RlLXJlbW90ZQ%3D%3D?line=6'>7</a>\u001b[0m \u001b[39mfrom\u001b[39;00m \u001b[39mMinimax\u001b[39;00m \u001b[39mimport\u001b[39;00m minimax_alpha_beta_material\n\u001b[1;32m      <a href='vscode-notebook-cell://wsl%2Bubuntu/home/ggentil/Projetos/Xadrez/MiniMax_Otimizado/main.ipynb#W0sdnNjb2RlLXJlbW90ZQ%3D%3D?line=7'>8</a>\u001b[0m \u001b[39mfrom\u001b[39;00m \u001b[39mAvaliacao\u001b[39;00m \u001b[39mimport\u001b[39;00m avaliarTabuleiro_2\n",
      "\u001b[0;31mImportError\u001b[0m: cannot import name 'minimax_alpha_beta_material' from 'Minimax' (/home/ggentil/Projetos/Xadrez/MiniMax_Otimizado/Minimax.py)"
     ]
    }
   ],
   "source": [
    "import chess\n",
    "import sys\n",
    "from IPython.display import clear_output\n",
    "from Heuristica import avaliarTabuleiro\n",
    "from Logica_jogo import is_terminal\n",
    "from Controle_jogo import definirLado, jogadaOponente\n",
    "from Minimax import minimax_alpha_beta_material\n",
    "from Avaliacao import avaliarTabuleiro_2"
   ]
  },
  {
   "cell_type": "code",
   "execution_count": null,
   "metadata": {},
   "outputs": [],
   "source": [
    "def main():\n",
    "    lado_jogador = definirLado()\n",
    "    board = chess.Board()\n",
    "\n",
    "    while True:\n",
    "        if board.turn == lado_jogador:\n",
    "            jogada, _ = minimax_alpha_beta_material(board, lado_jogador, profundidade=3, \n",
    "                                alpha=float(\"-inf\"), beta=float(\"inf\"))\n",
    "            board.push(jogada)       \n",
    "            clear_output()\n",
    "            print(f\"Movimento: {jogada.uci()}, Valor: {_}\")\n",
    "            print(f\"Pontuação do Tabuleiro: {avaliarTabuleiro(board=board)}\")\n",
    "            display(board)\n",
    "        else:\n",
    "            jogadaOponente(board)\n",
    "            clear_output()\n",
    "            print(f\"Pontuação do Tabuleiro: {avaliarTabuleiro(board=board)}\")  \n",
    "            display(board)\n",
    "\n",
    "        if is_terminal(board):        \n",
    "            if board.is_checkmate():\n",
    "                if board.turn == chess.WHITE:\n",
    "                    print(\"Oponente venceu!\")\n",
    "                else:\n",
    "                    print(\"Você venceu!\")\n",
    "            else:\n",
    "                print(\"Empate!\")\n",
    "            break"
   ]
  },
  {
   "cell_type": "code",
   "execution_count": null,
   "metadata": {},
   "outputs": [
    {
     "ename": "KeyboardInterrupt",
     "evalue": "",
     "output_type": "error",
     "traceback": [
      "\u001b[0;31m---------------------------------------------------------------------------\u001b[0m",
      "\u001b[0;31mKeyboardInterrupt\u001b[0m                         Traceback (most recent call last)",
      "\u001b[1;32m/home/ggentil/Projetos/Xadrez/MiniMax_Otimizado/main.ipynb Célula 3\u001b[0m line \u001b[0;36m3\n\u001b[1;32m      <a href='vscode-notebook-cell://wsl%2Bubuntu/home/ggentil/Projetos/Xadrez/MiniMax_Otimizado/main.ipynb#W2sdnNjb2RlLXJlbW90ZQ%3D%3D?line=0'>1</a>\u001b[0m \u001b[39mif\u001b[39;00m \u001b[39m__name__\u001b[39m \u001b[39m==\u001b[39m \u001b[39m\"\u001b[39m\u001b[39m__main__\u001b[39m\u001b[39m\"\u001b[39m:\n\u001b[1;32m      <a href='vscode-notebook-cell://wsl%2Bubuntu/home/ggentil/Projetos/Xadrez/MiniMax_Otimizado/main.ipynb#W2sdnNjb2RlLXJlbW90ZQ%3D%3D?line=1'>2</a>\u001b[0m     sys\u001b[39m.\u001b[39msetrecursionlimit(\u001b[39m10000\u001b[39m)\n\u001b[0;32m----> <a href='vscode-notebook-cell://wsl%2Bubuntu/home/ggentil/Projetos/Xadrez/MiniMax_Otimizado/main.ipynb#W2sdnNjb2RlLXJlbW90ZQ%3D%3D?line=2'>3</a>\u001b[0m     main()\n",
      "\u001b[1;32m/home/ggentil/Projetos/Xadrez/MiniMax_Otimizado/main.ipynb Célula 3\u001b[0m line \u001b[0;36m7\n\u001b[1;32m      <a href='vscode-notebook-cell://wsl%2Bubuntu/home/ggentil/Projetos/Xadrez/MiniMax_Otimizado/main.ipynb#W2sdnNjb2RlLXJlbW90ZQ%3D%3D?line=4'>5</a>\u001b[0m \u001b[39mwhile\u001b[39;00m \u001b[39mTrue\u001b[39;00m:\n\u001b[1;32m      <a href='vscode-notebook-cell://wsl%2Bubuntu/home/ggentil/Projetos/Xadrez/MiniMax_Otimizado/main.ipynb#W2sdnNjb2RlLXJlbW90ZQ%3D%3D?line=5'>6</a>\u001b[0m     \u001b[39mif\u001b[39;00m board\u001b[39m.\u001b[39mturn \u001b[39m==\u001b[39m lado_jogador:\n\u001b[0;32m----> <a href='vscode-notebook-cell://wsl%2Bubuntu/home/ggentil/Projetos/Xadrez/MiniMax_Otimizado/main.ipynb#W2sdnNjb2RlLXJlbW90ZQ%3D%3D?line=6'>7</a>\u001b[0m         jogada, _ \u001b[39m=\u001b[39m minimax(board, lado_jogador, profundidade\u001b[39m=\u001b[39;49m\u001b[39m3\u001b[39;49m, \n\u001b[1;32m      <a href='vscode-notebook-cell://wsl%2Bubuntu/home/ggentil/Projetos/Xadrez/MiniMax_Otimizado/main.ipynb#W2sdnNjb2RlLXJlbW90ZQ%3D%3D?line=7'>8</a>\u001b[0m                             alpha\u001b[39m=\u001b[39;49m\u001b[39mfloat\u001b[39;49m(\u001b[39m\"\u001b[39;49m\u001b[39m-inf\u001b[39;49m\u001b[39m\"\u001b[39;49m), beta\u001b[39m=\u001b[39;49m\u001b[39mfloat\u001b[39;49m(\u001b[39m\"\u001b[39;49m\u001b[39minf\u001b[39;49m\u001b[39m\"\u001b[39;49m))\n\u001b[1;32m      <a href='vscode-notebook-cell://wsl%2Bubuntu/home/ggentil/Projetos/Xadrez/MiniMax_Otimizado/main.ipynb#W2sdnNjb2RlLXJlbW90ZQ%3D%3D?line=8'>9</a>\u001b[0m         board\u001b[39m.\u001b[39mpush(jogada)       \n\u001b[1;32m     <a href='vscode-notebook-cell://wsl%2Bubuntu/home/ggentil/Projetos/Xadrez/MiniMax_Otimizado/main.ipynb#W2sdnNjb2RlLXJlbW90ZQ%3D%3D?line=9'>10</a>\u001b[0m         clear_output()\n",
      "File \u001b[0;32m~/Projetos/Xadrez/MiniMax_Otimizado/Minimax.py:15\u001b[0m, in \u001b[0;36mminimax\u001b[0;34m(board, lado_jogador, profundidade, alpha, beta)\u001b[0m\n\u001b[1;32m     13\u001b[0m \u001b[39mfor\u001b[39;00m move \u001b[39min\u001b[39;00m get_moves(board, lado_jogador):\n\u001b[1;32m     14\u001b[0m     new_board \u001b[39m=\u001b[39m make_move(board, move)\n\u001b[0;32m---> 15\u001b[0m     _, value \u001b[39m=\u001b[39m minimax(new_board, get_oponente(lado_jogador), profundidade \u001b[39m+\u001b[39;49m \u001b[39m1\u001b[39;49m, alpha, beta)\n\u001b[1;32m     16\u001b[0m     \u001b[39mprint\u001b[39m(\u001b[39m\"\u001b[39m\u001b[39mteste\u001b[39m\u001b[39m\"\u001b[39m)\n\u001b[1;32m     17\u001b[0m     \u001b[39mif\u001b[39;00m board\u001b[39m.\u001b[39mturn \u001b[39m==\u001b[39m lado_jogador:\n",
      "File \u001b[0;32m~/Projetos/Xadrez/MiniMax_Otimizado/Minimax.py:15\u001b[0m, in \u001b[0;36mminimax\u001b[0;34m(board, lado_jogador, profundidade, alpha, beta)\u001b[0m\n\u001b[1;32m     13\u001b[0m \u001b[39mfor\u001b[39;00m move \u001b[39min\u001b[39;00m get_moves(board, lado_jogador):\n\u001b[1;32m     14\u001b[0m     new_board \u001b[39m=\u001b[39m make_move(board, move)\n\u001b[0;32m---> 15\u001b[0m     _, value \u001b[39m=\u001b[39m minimax(new_board, get_oponente(lado_jogador), profundidade \u001b[39m+\u001b[39;49m \u001b[39m1\u001b[39;49m, alpha, beta)\n\u001b[1;32m     16\u001b[0m     \u001b[39mprint\u001b[39m(\u001b[39m\"\u001b[39m\u001b[39mteste\u001b[39m\u001b[39m\"\u001b[39m)\n\u001b[1;32m     17\u001b[0m     \u001b[39mif\u001b[39;00m board\u001b[39m.\u001b[39mturn \u001b[39m==\u001b[39m lado_jogador:\n",
      "    \u001b[0;31m[... skipping similar frames: minimax at line 15 (1804 times)]\u001b[0m\n",
      "File \u001b[0;32m~/Projetos/Xadrez/MiniMax_Otimizado/Minimax.py:15\u001b[0m, in \u001b[0;36mminimax\u001b[0;34m(board, lado_jogador, profundidade, alpha, beta)\u001b[0m\n\u001b[1;32m     13\u001b[0m \u001b[39mfor\u001b[39;00m move \u001b[39min\u001b[39;00m get_moves(board, lado_jogador):\n\u001b[1;32m     14\u001b[0m     new_board \u001b[39m=\u001b[39m make_move(board, move)\n\u001b[0;32m---> 15\u001b[0m     _, value \u001b[39m=\u001b[39m minimax(new_board, get_oponente(lado_jogador), profundidade \u001b[39m+\u001b[39;49m \u001b[39m1\u001b[39;49m, alpha, beta)\n\u001b[1;32m     16\u001b[0m     \u001b[39mprint\u001b[39m(\u001b[39m\"\u001b[39m\u001b[39mteste\u001b[39m\u001b[39m\"\u001b[39m)\n\u001b[1;32m     17\u001b[0m     \u001b[39mif\u001b[39;00m board\u001b[39m.\u001b[39mturn \u001b[39m==\u001b[39m lado_jogador:\n",
      "File \u001b[0;32m~/Projetos/Xadrez/MiniMax_Otimizado/Minimax.py:14\u001b[0m, in \u001b[0;36mminimax\u001b[0;34m(board, lado_jogador, profundidade, alpha, beta)\u001b[0m\n\u001b[1;32m     11\u001b[0m best_value \u001b[39m=\u001b[39m \u001b[39mfloat\u001b[39m(\u001b[39m\"\u001b[39m\u001b[39m-inf\u001b[39m\u001b[39m\"\u001b[39m) \u001b[39mif\u001b[39;00m board\u001b[39m.\u001b[39mturn \u001b[39m==\u001b[39m lado_jogador \u001b[39melse\u001b[39;00m \u001b[39mfloat\u001b[39m(\u001b[39m\"\u001b[39m\u001b[39minf\u001b[39m\u001b[39m\"\u001b[39m)\n\u001b[1;32m     13\u001b[0m \u001b[39mfor\u001b[39;00m move \u001b[39min\u001b[39;00m get_moves(board, lado_jogador):\n\u001b[0;32m---> 14\u001b[0m     new_board \u001b[39m=\u001b[39m make_move(board, move)\n\u001b[1;32m     15\u001b[0m     _, value \u001b[39m=\u001b[39m minimax(new_board, get_oponente(lado_jogador), profundidade \u001b[39m+\u001b[39m \u001b[39m1\u001b[39m, alpha, beta)\n\u001b[1;32m     16\u001b[0m     \u001b[39mprint\u001b[39m(\u001b[39m\"\u001b[39m\u001b[39mteste\u001b[39m\u001b[39m\"\u001b[39m)\n",
      "File \u001b[0;32m~/Projetos/Xadrez/MiniMax_Otimizado/Logica_jogo.py:12\u001b[0m, in \u001b[0;36mmake_move\u001b[0;34m(board, move)\u001b[0m\n\u001b[1;32m     11\u001b[0m \u001b[39mdef\u001b[39;00m \u001b[39mmake_move\u001b[39m(board, move):\n\u001b[0;32m---> 12\u001b[0m     new_board \u001b[39m=\u001b[39m board\u001b[39m.\u001b[39;49mcopy()\n\u001b[1;32m     13\u001b[0m     new_board\u001b[39m.\u001b[39mpush(move)\n\u001b[1;32m     14\u001b[0m     \u001b[39mreturn\u001b[39;00m new_board\n",
      "File \u001b[0;32m~/Projetos/Xadrez/MiniMax_Otimizado/venv/lib/python3.10/site-packages/chess/__init__.py:3757\u001b[0m, in \u001b[0;36mBoard.copy\u001b[0;34m(self, stack)\u001b[0m\n\u001b[1;32m   3755\u001b[0m \u001b[39mif\u001b[39;00m stack:\n\u001b[1;32m   3756\u001b[0m     stack \u001b[39m=\u001b[39m \u001b[39mlen\u001b[39m(\u001b[39mself\u001b[39m\u001b[39m.\u001b[39mmove_stack) \u001b[39mif\u001b[39;00m stack \u001b[39mis\u001b[39;00m \u001b[39mTrue\u001b[39;00m \u001b[39melse\u001b[39;00m stack\n\u001b[0;32m-> 3757\u001b[0m     board\u001b[39m.\u001b[39mmove_stack \u001b[39m=\u001b[39m [copy\u001b[39m.\u001b[39mcopy(move) \u001b[39mfor\u001b[39;00m move \u001b[39min\u001b[39;00m \u001b[39mself\u001b[39m\u001b[39m.\u001b[39mmove_stack[\u001b[39m-\u001b[39mstack:]]\n\u001b[1;32m   3758\u001b[0m     board\u001b[39m.\u001b[39m_stack \u001b[39m=\u001b[39m \u001b[39mself\u001b[39m\u001b[39m.\u001b[39m_stack[\u001b[39m-\u001b[39mstack:]\n\u001b[1;32m   3760\u001b[0m \u001b[39mreturn\u001b[39;00m board\n",
      "File \u001b[0;32m~/Projetos/Xadrez/MiniMax_Otimizado/venv/lib/python3.10/site-packages/chess/__init__.py:3757\u001b[0m, in \u001b[0;36m<listcomp>\u001b[0;34m(.0)\u001b[0m\n\u001b[1;32m   3755\u001b[0m \u001b[39mif\u001b[39;00m stack:\n\u001b[1;32m   3756\u001b[0m     stack \u001b[39m=\u001b[39m \u001b[39mlen\u001b[39m(\u001b[39mself\u001b[39m\u001b[39m.\u001b[39mmove_stack) \u001b[39mif\u001b[39;00m stack \u001b[39mis\u001b[39;00m \u001b[39mTrue\u001b[39;00m \u001b[39melse\u001b[39;00m stack\n\u001b[0;32m-> 3757\u001b[0m     board\u001b[39m.\u001b[39mmove_stack \u001b[39m=\u001b[39m [copy\u001b[39m.\u001b[39;49mcopy(move) \u001b[39mfor\u001b[39;00m move \u001b[39min\u001b[39;00m \u001b[39mself\u001b[39m\u001b[39m.\u001b[39mmove_stack[\u001b[39m-\u001b[39mstack:]]\n\u001b[1;32m   3758\u001b[0m     board\u001b[39m.\u001b[39m_stack \u001b[39m=\u001b[39m \u001b[39mself\u001b[39m\u001b[39m.\u001b[39m_stack[\u001b[39m-\u001b[39mstack:]\n\u001b[1;32m   3760\u001b[0m \u001b[39mreturn\u001b[39;00m board\n",
      "File \u001b[0;32m/usr/lib/python3.10/copy.py:102\u001b[0m, in \u001b[0;36mcopy\u001b[0;34m(x)\u001b[0m\n\u001b[1;32m    100\u001b[0m \u001b[39mif\u001b[39;00m \u001b[39misinstance\u001b[39m(rv, \u001b[39mstr\u001b[39m):\n\u001b[1;32m    101\u001b[0m     \u001b[39mreturn\u001b[39;00m x\n\u001b[0;32m--> 102\u001b[0m \u001b[39mreturn\u001b[39;00m _reconstruct(x, \u001b[39mNone\u001b[39;49;00m, \u001b[39m*\u001b[39;49mrv)\n",
      "\u001b[0;31mKeyboardInterrupt\u001b[0m: "
     ]
    }
   ],
   "source": [
    "if __name__ == \"__main__\":\n",
    "    sys.setrecursionlimit(10000)\n",
    "    main()"
   ]
  }
 ],
 "metadata": {
  "kernelspec": {
   "display_name": "venv",
   "language": "python",
   "name": "python3"
  },
  "language_info": {
   "codemirror_mode": {
    "name": "ipython",
    "version": 3
   },
   "file_extension": ".py",
   "mimetype": "text/x-python",
   "name": "python",
   "nbconvert_exporter": "python",
   "pygments_lexer": "ipython3",
   "version": "3.10.12"
  }
 },
 "nbformat": 4,
 "nbformat_minor": 2
}
