{
  "cells": [
    {
      "cell_type": "markdown",
      "metadata": {
        "id": "VKVuOhM8x30V"
      },
      "source": [
        "# Bot xadrez nível básico"
      ]
    },
    {
      "cell_type": "code",
      "execution_count": null,
      "metadata": {
        "colab": {
          "base_uri": "https://localhost:8080/"
        },
        "id": "MXUfNfE5x6b2",
        "outputId": "debb5ebc-64b3-46d1-9177-521fd707bb8e"
      },
      "outputs": [],
      "source": [
        "import chess\n",
        "import random\n",
        "import chess.polyglot"
      ]
    },
    {
      "cell_type": "code",
      "execution_count": null,
      "metadata": {},
      "outputs": [],
      "source": [
        "def definirLado():\n",
        "    lado = input('Defina o seu lado (W/B): ').upper()\n",
        "    if lado == 'W':\n",
        "        return chess.WHITE\n",
        "    elif lado == 'B':\n",
        "        return chess.BLACK\n",
        "    else:\n",
        "        print('Lado inválido. Escolha W para branco ou B para preto.')\n",
        "        return definirLado()"
      ]
    },
    {
      "cell_type": "code",
      "execution_count": null,
      "metadata": {},
      "outputs": [],
      "source": [
        "board = chess.Board()\n",
        "lado_escolhido = definirLado()"
      ]
    },
    {
      "cell_type": "code",
      "execution_count": null,
      "metadata": {},
      "outputs": [],
      "source": [
        "def isEmpate(board=board):\n",
        "    if board.is_stalemate() or board.is_fivefold_repetition() or board.is_seventyfive_moves():\n",
        "        return True\n",
        "    else:\n",
        "        return False"
      ]
    },
    {
      "cell_type": "code",
      "execution_count": null,
      "metadata": {},
      "outputs": [],
      "source": [
        "def jogadaOponente(board):\n",
        "    while True:\n",
        "        resposta = input('Informe a jogada do oponente (use a notação de casas): ')\n",
        "        jogada = chess.Move.from_uci(resposta)\n",
        "        \n",
        "        if jogada in board.legal_moves:\n",
        "            board.push(jogada)\n",
        "            \n",
        "            break\n",
        "        else:\n",
        "            print(\"Jogada ilegal. Tente novamente.\")"
      ]
    },
    {
      "cell_type": "code",
      "execution_count": null,
      "metadata": {},
      "outputs": [],
      "source": [
        "def obterMelhorJogada(board, lado_escolhido):\n",
        "  if board.turn == lado_escolhido:\n",
        "        jogadas = melhoresJogadas(board)\n",
        "        melhorJogada = None\n",
        "        if len(jogadas) > 0:\n",
        "            melhorJogada = jogadas[0].move\n",
        "        if not melhorJogada:\n",
        "            print(\"Não achou jogada\")\n",
        "            melhorJogada = random.sample(list(board.legal_moves), 1)[0]\n",
        "        return melhorJogada\n",
        "  else:\n",
        "      return None\n",
        "\n",
        "def melhoresJogadas(board=board):\n",
        "  jogadas = []\n",
        "  with chess.polyglot.open_reader(\"Bookfish\") as reader:\n",
        "    for entry in reader.find_all(board):\n",
        "      jogadas.append(entry)\n",
        "  return jogadas"
      ]
    },
    {
      "cell_type": "code",
      "execution_count": null,
      "metadata": {},
      "outputs": [],
      "source": [
        "def jogar(board, lado_escolhido):\n",
        "    jogada_bot = obterMelhorJogada(board, lado_escolhido)\n",
        "    if jogada_bot:\n",
        "        board.push(jogada_bot)\n",
        "    else:\n",
        "        print(\"Não é a vez do bot jogar.\")"
      ]
    },
    {
      "cell_type": "code",
      "execution_count": null,
      "metadata": {},
      "outputs": [],
      "source": [
        "def main(board, lado_escolhido):\n",
        "    while not board.is_game_over():\n",
        "        if board.turn == lado_escolhido:\n",
        "            jogar(board, lado_escolhido)\n",
        "        else:\n",
        "            jogadaOponente(board)\n",
        "        display(board)\n",
        "\n",
        "    if board.is_checkmate():\n",
        "        print(\"Xeque-mate! O jogo acabou.\")\n",
        "    elif isEmpate(board):\n",
        "        print(\"Empate! O jogo terminou em empate.\")\n",
        "    else:\n",
        "        print(\"O jogo terminou por algum motivo desconhecido.\")"
      ]
    },
    {
      "cell_type": "code",
      "execution_count": null,
      "metadata": {},
      "outputs": [],
      "source": [
        "main(board, lado_escolhido)"
      ]
    }
  ],
  "metadata": {
    "colab": {
      "provenance": []
    },
    "kernelspec": {
      "display_name": "Python 3",
      "name": "python3"
    },
    "language_info": {
      "codemirror_mode": {
        "name": "ipython",
        "version": 3
      },
      "file_extension": ".py",
      "mimetype": "text/x-python",
      "name": "python",
      "nbconvert_exporter": "python",
      "pygments_lexer": "ipython3",
      "version": "3.10.12"
    }
  },
  "nbformat": 4,
  "nbformat_minor": 0
}
