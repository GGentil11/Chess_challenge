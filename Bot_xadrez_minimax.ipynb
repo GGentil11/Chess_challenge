{
  "cells": [
    {
      "cell_type": "markdown",
      "metadata": {
        "id": "VKVuOhM8x30V"
      },
      "source": [
        "# Bot xadrez nível básico"
      ]
    },
    {
      "cell_type": "code",
      "execution_count": null,
      "metadata": {
        "colab": {
          "base_uri": "https://localhost:8080/"
        },
        "id": "MXUfNfE5x6b2",
        "outputId": "debb5ebc-64b3-46d1-9177-521fd707bb8e"
      },
      "outputs": [],
      "source": [
        "import chess\n",
        "import random\n",
        "import chess.polyglot\n",
        "from IPython.display import clear_output\n",
        "from copy import deepcopy"
      ]
    },
    {
      "cell_type": "code",
      "execution_count": null,
      "metadata": {},
      "outputs": [],
      "source": [
        "def definirLado():\n",
        "    lado = input('Defina o seu lado (W/B): ').upper()\n",
        "    if lado == 'W':\n",
        "        return chess.WHITE\n",
        "    elif lado == 'B':\n",
        "        return chess.BLACK\n",
        "    else:\n",
        "        print('Lado inválido. Escolha W para branco ou B para preto.')\n",
        "        return definirLado()"
      ]
    },
    {
      "cell_type": "code",
      "execution_count": null,
      "metadata": {},
      "outputs": [],
      "source": [
        "board = chess.Board()\n",
        "lado_escolhido = definirLado()"
      ]
    },
    {
      "cell_type": "code",
      "execution_count": null,
      "metadata": {},
      "outputs": [],
      "source": [
        "def isEmpate(board=board):\n",
        "    if board.is_stalemate() or board.is_fivefold_repetition() or board.is_seventyfive_moves():\n",
        "        return True\n",
        "    else:\n",
        "        return False"
      ]
    },
    {
      "cell_type": "code",
      "execution_count": null,
      "metadata": {},
      "outputs": [],
      "source": [
        "def jogadaOponente(board):\n",
        "    while True:\n",
        "        resposta = input('Informe a jogada do oponente (use a notação de casas): ')\n",
        "        if len(resposta) == 4  and resposta.isalnum():\n",
        "            jogada = chess.Move.from_uci(resposta)\n",
        "            if jogada in board.legal_moves:\n",
        "                board.push(jogada)\n",
        "                break\n",
        "            else:\n",
        "                print(\"Jogada ilegal. Tente novamente.\")\n",
        "        else:\n",
        "            print(\"Jogada inválida. A notação UCI deve ter 4 ou 5 caracteres.\")"
      ]
    },
    {
      "cell_type": "code",
      "execution_count": null,
      "metadata": {},
      "outputs": [],
      "source": [
        "def oponenteTeste(board):\n",
        "    return random.choice(list(board.legal_moves))"
      ]
    },
    {
      "cell_type": "code",
      "execution_count": null,
      "metadata": {},
      "outputs": [],
      "source": [
        "reader = chess.polyglot.open_reader('Human.bin')\n",
        "\n",
        "pecas_valores= {'p': -10,\n",
        "          'n': -30,\n",
        "          'b': -30,\n",
        "          'r': -50,\n",
        "          'q': -90,\n",
        "          'k': -900,\n",
        "          'P': 10,\n",
        "          'N': 30,\n",
        "          'B': 30,\n",
        "          'R': 50,\n",
        "          'Q': 90,\n",
        "          'K': 900,\n",
        "          }\n",
        "\n",
        "def eval_board(board):\n",
        "    score = 0\n",
        "    pieces = board.piece_map()\n",
        "    for key in pieces:\n",
        "        score += pecas_valores[str(pieces[key])]\n",
        "\n",
        "    return score\n",
        "\n",
        "def eval_space(board):\n",
        "    no_moves = len(list(board.legal_moves))\n",
        "    value = (no_moves/(20+no_moves))\n",
        "    \n",
        "    if board.turn == True:\n",
        "        return value\n",
        "    else:\n",
        "        return -value\n",
        "\n",
        "def minMax(board, profundidade):\n",
        "\n",
        "    opening_move = reader.get(board)\n",
        "    if opening_move == None:\n",
        "        pass\n",
        "    else:\n",
        "        return opening_move.move\n",
        "\n",
        "    moves = list(board.legal_moves)\n",
        "    scores = []\n",
        "\n",
        "    #score each move\n",
        "    for move in moves:\n",
        "        #temp allows us to leave the original game state unchanged\n",
        "        temp = deepcopy(board)\n",
        "        temp.push(move)\n",
        "\n",
        "        #here we must check that the game is not over\n",
        "        outcome = temp.outcome()\n",
        "        \n",
        "        #if checkmate\n",
        "        if outcome == None:\n",
        "            #if we have not got to the final depth\n",
        "            #we search more moves ahead\n",
        "            if profundidade > 1:\n",
        "                temp_best_move = minMax(temp, profundidade - 1)\n",
        "                temp.push(temp_best_move)\n",
        "\n",
        "            scores.append(eval_board(temp))\n",
        "\n",
        "        #if checkmate\n",
        "        elif temp.is_checkmate():\n",
        "\n",
        "            # we return this as best move as it is checkmate\n",
        "            return move\n",
        "\n",
        "        # if stalemate\n",
        "        else:\n",
        "            #value to disencourage a draw\n",
        "            #the higher the less likely to draw\n",
        "            #default value should be 0\n",
        "            #we often pick 0.1 to get the bot out of loops in bot vs bot\n",
        "            val = 1000\n",
        "            if board.turn == True:\n",
        "                scores.append(-val)\n",
        "            else:\n",
        "                scores.append(val)\n",
        "\n",
        "        #this is the secondary eval function\n",
        "        scores[-1] = scores[-1] + eval_space(temp)\n",
        "\n",
        "    if board.turn == True:\n",
        "        best_move = moves[scores.index(max(scores))]\n",
        "    else:\n",
        "        best_move = moves[scores.index(min(scores))]\n",
        "\n",
        "    return best_move        "
      ]
    },
    {
      "cell_type": "code",
      "execution_count": null,
      "metadata": {},
      "outputs": [],
      "source": [
        "def jogar(board):\n",
        "    jogada_bot = minMax(board, profundidade = 3)\n",
        "    if jogada_bot:\n",
        "        board.push(jogada_bot)\n",
        "    else:\n",
        "        print(\"Não é a vez do bot jogar.\")"
      ]
    },
    {
      "cell_type": "code",
      "execution_count": null,
      "metadata": {},
      "outputs": [],
      "source": [
        "def main(board, lado_escolhido):\n",
        "    while not board.is_game_over():\n",
        "        if board.turn == lado_escolhido:\n",
        "            jogar(board)\n",
        "        else:\n",
        "            jogadaOponente(board)\n",
        "        clear_output()\n",
        "        display(board)\n",
        "\n",
        "    if board.is_checkmate():\n",
        "        print(\"Xeque-mate! O jogo acabou.\")\n",
        "    elif isEmpate(board):\n",
        "        print(\"Empate! O jogo terminou em empate.\")\n",
        "    else:\n",
        "        print(\"O jogo terminou por algum motivo desconhecido.\")"
      ]
    },
    {
      "cell_type": "code",
      "execution_count": null,
      "metadata": {},
      "outputs": [],
      "source": [
        "main(board, lado_escolhido)"
      ]
    }
  ],
  "metadata": {
    "colab": {
      "provenance": []
    },
    "kernelspec": {
      "display_name": "Python 3",
      "name": "python3"
    },
    "language_info": {
      "codemirror_mode": {
        "name": "ipython",
        "version": 3
      },
      "file_extension": ".py",
      "mimetype": "text/x-python",
      "name": "python",
      "nbconvert_exporter": "python",
      "pygments_lexer": "ipython3",
      "version": "3.10.12"
    }
  },
  "nbformat": 4,
  "nbformat_minor": 0
}
